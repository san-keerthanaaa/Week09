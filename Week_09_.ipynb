{
 "cells": [
  {
   "cell_type": "markdown",
   "metadata": {
    "id": "D-JX61s8U-LU"
   },
   "source": [
    "1."
   ]
  },
  {
   "cell_type": "code",
   "execution_count": null,
   "metadata": {
    "colab": {
     "base_uri": "https://localhost:8080/"
    },
    "id": "GV-P0cs1A7zS",
    "outputId": "ead42673-2dae-46b1-9aed-4cb702a4237e"
   },
   "outputs": [
    {
     "name": "stdout",
     "output_type": "stream",
     "text": [
      "3.11.11 (main, Dec  4 2024, 08:55:07) [GCC 11.4.0]\n",
      "Pandas version: 2.2.2\n",
      "Matplotlib version: 3.10.0\n",
      "Numpy version: 2.0.2\n",
      "SciKitLearn version: 1.6.1\n",
      "My working directory:\n",
      "/content\n",
      "My new working directory:\n",
      "/content\n",
      "              precision    recall  f1-score   support\n",
      "\n",
      "         0.0       0.76      0.85      0.81       970\n",
      "         1.0       0.66      0.52      0.58       530\n",
      "\n",
      "    accuracy                           0.73      1500\n",
      "   macro avg       0.71      0.68      0.69      1500\n",
      "weighted avg       0.73      0.73      0.72      1500\n",
      "\n",
      "\n",
      "Model                  Train    Test\n",
      "-------------------------------------------\n",
      "Logistic               0.7333   0.718 \n",
      "\n",
      "Model                  Train    Test\n",
      "-------------------------------------------\n",
      "Logistic               0.7333   0.718 \n",
      "Null                   0.6467   0.608 \n",
      "              precision    recall  f1-score   support\n",
      "\n",
      "         0.0       0.76      0.85      0.80       970\n",
      "         1.0       0.65      0.52      0.58       530\n",
      "\n",
      "    accuracy                           0.73      1500\n",
      "   macro avg       0.71      0.68      0.69      1500\n",
      "weighted avg       0.72      0.73      0.72      1500\n",
      "\n",
      "\n",
      "Model                  Train    Test\n",
      "-------------------------------------------\n",
      "Logistic               0.7333   0.718 \n",
      "Null                   0.6467   0.608 \n",
      "Logistic_L1_C_1        0.732    0.716 \n",
      "\n",
      "Model                  Train    Test\n",
      "-------------------------------------------\n",
      "Logistic               0.7333   0.718 \n",
      "Null                   0.6467   0.608 \n",
      "Logistic_L1_C_1        0.732    0.716 \n",
      "Logistic_L1_C_01       0.726    0.706 \n",
      "\n",
      "Model                  Train    Test\n",
      "-------------------------------------------\n",
      "Logistic               0.7333   0.718 \n",
      "Null                   0.6467   0.608 \n",
      "Logistic_L1_C_1        0.732    0.716 \n",
      "Logistic_L1_C_01       0.726    0.706 \n",
      "Logistic_L1_C_10       0.7347   0.718 \n",
      "\n",
      "Model                  Train    Test\n",
      "-------------------------------------------\n",
      "Logistic               0.7333   0.718 \n",
      "Null                   0.6467   0.608 \n",
      "Logistic_L1_C_1        0.732    0.716 \n",
      "Logistic_L1_C_01       0.726    0.706 \n",
      "Logistic_L1_C_10       0.7347   0.718 \n",
      "Logistic_L1_C_auto     0.7233   0.708 \n",
      "\n",
      "Model                  Train    Test\n",
      "-------------------------------------------\n",
      "Logistic               0.7333   0.718 \n",
      "Null                   0.6467   0.608 \n",
      "Logistic_L1_C_1        0.732    0.716 \n",
      "Logistic_L1_C_01       0.726    0.706 \n",
      "Logistic_L1_C_10       0.7347   0.718 \n",
      "Logistic_L1_C_auto     0.7233   0.708 \n",
      "Logistic_SL1_C_auto    0.7307   0.714 \n",
      "\n",
      "Model                  Train    Test\n",
      "-------------------------------------------\n",
      "Logistic               0.7333   0.718 \n",
      "Null                   0.6467   0.608 \n",
      "Logistic_L1_C_1        0.732    0.716 \n",
      "Logistic_L1_C_01       0.726    0.706 \n",
      "Logistic_L1_C_10       0.7347   0.718 \n",
      "Logistic_L1_C_auto     0.7233   0.708 \n",
      "Logistic_SL1_C_auto    0.7307   0.714 \n",
      "RandomForest_noCV      0.9993   0.684 \n",
      "\n",
      "Model                  Train    Test\n",
      "-------------------------------------------\n",
      "Logistic               0.7333   0.718 \n",
      "Null                   0.6467   0.608 \n",
      "Logistic_L1_C_1        0.732    0.716 \n",
      "Logistic_L1_C_01       0.726    0.706 \n",
      "Logistic_L1_C_10       0.7347   0.718 \n",
      "Logistic_L1_C_auto     0.7233   0.708 \n",
      "Logistic_SL1_C_auto    0.7307   0.714 \n",
      "RandomForest_noCV      0.9993   0.684 \n",
      "RandomForest_CV        0.9953   0.692 \n",
      "\n",
      "Model                  Train    Test\n",
      "-------------------------------------------\n",
      "Logistic               0.7333   0.718 \n",
      "Null                   0.6467   0.608 \n",
      "Logistic_L1_C_1        0.732    0.716 \n",
      "Logistic_L1_C_01       0.726    0.706 \n",
      "Logistic_L1_C_10       0.7347   0.718 \n",
      "Logistic_L1_C_auto     0.7233   0.708 \n",
      "Logistic_SL1_C_auto    0.7307   0.714 \n",
      "RandomForest_noCV      0.9993   0.684 \n",
      "RandomForest_CV        0.9953   0.692 \n",
      "RandomForest_CV2       0.724    0.7   \n"
     ]
    }
   ],
   "source": [
    "from IPython.display import display\n",
    "%run Machine_Learning_Review_Classification.ipynb"
   ]
  },
  {
   "cell_type": "code",
   "execution_count": null,
   "metadata": {
    "colab": {
     "base_uri": "https://localhost:8080/"
    },
    "id": "JMV2OMv7DIjI",
    "outputId": "77a3cbd0-1545-4239-e096-700012af8a39"
   },
   "outputs": [
    {
     "name": "stdout",
     "output_type": "stream",
     "text": [
      "\n",
      "Model                  Train    Test\n",
      "-------------------------------------------\n",
      "Logistic               0.7333   0.718 \n",
      "Null                   0.6467   0.608 \n",
      "Logistic_L1_C_1        0.732    0.716 \n",
      "Logistic_L1_C_01       0.726    0.706 \n",
      "Logistic_L1_C_10       0.7347   0.718 \n",
      "Logistic_L1_C_auto     0.7233   0.708 \n",
      "Logistic_SL1_C_auto    0.7307   0.714 \n",
      "RandomForest_noCV      0.9993   0.684 \n",
      "RandomForest_CV        0.9953   0.692 \n",
      "RandomForest_CV2       0.724    0.7   \n"
     ]
    }
   ],
   "source": [
    "get_results(result_scores)"
   ]
  },
  {
   "cell_type": "markdown",
   "metadata": {
    "id": "JRm1nG11D3_f"
   },
   "source": [
    "Among all the classification models evaluated, Logistic_L1_C_10 delivered the strongest performance overall. It attained a training accuracy of 0.7347 and a test accuracy of 0.718, the highest among the models assessed. These results indicate that the model effectively balances learning from the training data while maintaining strong generalization to new, unseen data."
   ]
  },
  {
   "cell_type": "markdown",
   "metadata": {
    "id": "O1YJTVpbGiZt"
   },
   "source": [
    "2.\n"
   ]
  },
  {
   "cell_type": "code",
   "execution_count": null,
   "metadata": {
    "id": "uB__7czaEaQA"
   },
   "outputs": [],
   "source": [
    "patient_df = df_patient.copy()"
   ]
  },
  {
   "cell_type": "code",
   "execution_count": null,
   "metadata": {
    "id": "vUScu2ZcHGN8"
   },
   "outputs": [],
   "source": [
    "patient_df[\"Gender\"] = patient_df[\"Gender\"].map({'male': 0, 'female': 1})\n",
    "patient_df[\"Race\"] = patient_df[\"Race\"].map({'white':0, 'hispanic':1, 'black':2, 'other':3})"
   ]
  },
  {
   "cell_type": "code",
   "execution_count": null,
   "metadata": {
    "id": "rkyIGbYQHU-k"
   },
   "outputs": [],
   "source": [
    "X = patient_df[list(vars_left)]\n",
    "y= patient_df['mortality']\n",
    "X_train, X_test, y_train, y_test = train_test_split(X, np.ravel(y), random_state=20, test_size=0.20)"
   ]
  },
  {
   "cell_type": "code",
   "execution_count": null,
   "metadata": {
    "colab": {
     "base_uri": "https://localhost:8080/"
    },
    "id": "rqDBq050Hf96",
    "outputId": "b18842c2-8f21-4d16-8033-9081cddfa272"
   },
   "outputs": [
    {
     "data": {
      "text/plain": [
       "(16000, 25)"
      ]
     },
     "execution_count": 11,
     "metadata": {},
     "output_type": "execute_result"
    }
   ],
   "source": [
    "X_train.shape"
   ]
  },
  {
   "cell_type": "code",
   "execution_count": null,
   "metadata": {
    "colab": {
     "base_uri": "https://localhost:8080/"
    },
    "id": "c2OTJzV0HtoS",
    "outputId": "a7f0e057-1c86-4a71-9068-150543dff2e2"
   },
   "outputs": [
    {
     "data": {
      "text/plain": [
       "(4000, 25)"
      ]
     },
     "execution_count": 12,
     "metadata": {},
     "output_type": "execute_result"
    }
   ],
   "source": [
    "X_test.shape"
   ]
  },
  {
   "cell_type": "code",
   "execution_count": null,
   "metadata": {
    "colab": {
     "base_uri": "https://localhost:8080/"
    },
    "id": "5RMNJOMuHwwR",
    "outputId": "ecaaac93-cb4e-47e8-924a-f893e92ec4a2"
   },
   "outputs": [
    {
     "data": {
      "text/plain": [
       "(16000,)"
      ]
     },
     "execution_count": 13,
     "metadata": {},
     "output_type": "execute_result"
    }
   ],
   "source": [
    "y_train.shape"
   ]
  },
  {
   "cell_type": "code",
   "execution_count": null,
   "metadata": {
    "colab": {
     "base_uri": "https://localhost:8080/"
    },
    "id": "ihp2cYCxH3Cj",
    "outputId": "14a85d84-dfc8-4687-9fcd-ec9912be38ff"
   },
   "outputs": [
    {
     "data": {
      "text/plain": [
       "(4000,)"
      ]
     },
     "execution_count": 14,
     "metadata": {},
     "output_type": "execute_result"
    }
   ],
   "source": [
    "y_test.shape"
   ]
  },
  {
   "cell_type": "code",
   "execution_count": null,
   "metadata": {
    "colab": {
     "base_uri": "https://localhost:8080/"
    },
    "id": "Q2Ae5lD0ISvG",
    "outputId": "f350e436-1b3a-496a-b337-a5f2ab28d82c"
   },
   "outputs": [
    {
     "name": "stdout",
     "output_type": "stream",
     "text": [
      "\n",
      "Solver               Training Subset Accuracy  Test Subset Accuracy      Time (s)  \n",
      "------------------------------------------------------------------------------------\n",
      "lbfgs                0.7489                    0.7355                    0.2861    \n",
      "newton-cg            0.7487                    0.7355                    0.0977    \n",
      "newton-cholesky      0.7487                    0.7355                    0.0336    \n",
      "sag                  0.7488                    0.7358                    2.7716    \n",
      "saga                 0.7488                    0.7358                    5.4226    \n"
     ]
    }
   ],
   "source": [
    "import time\n",
    "from sklearn.linear_model import LogisticRegression\n",
    "from sklearn.metrics import accuracy_score\n",
    "\n",
    "# Dictionary to store results\n",
    "result_scores = {}\n",
    "\n",
    "# Function to create and evaluate a logistic regression model with a specific solver\n",
    "def create_linear_model(solver_name):\n",
    "    model = LogisticRegression(\n",
    "        fit_intercept=True,\n",
    "        penalty=None,\n",
    "        solver=solver_name,\n",
    "        max_iter=10000\n",
    "    )\n",
    "\n",
    "    start_time = time.time()\n",
    "    model.fit(X_train, y_train)\n",
    "    end_time = time.time()\n",
    "\n",
    "    train_accuracy = accuracy_score(y_train, model.predict(X_train))\n",
    "    test_accuracy = accuracy_score(y_test, model.predict(X_test))\n",
    "    elapsed_time = end_time - start_time\n",
    "\n",
    "    result_scores[solver_name] = (train_accuracy, test_accuracy, elapsed_time)\n",
    "\n",
    "# Function to display results\n",
    "def print_results():\n",
    "    header = f\"\\n{'Solver':20} {'Training Subset Accuracy':25} {'Test Subset Accuracy':25} {'Time (s)':10}\"\n",
    "    print(header)\n",
    "    print(\"-\" * len(header))\n",
    "    for solver, (train_acc, test_acc, duration) in result_scores.items():\n",
    "        print(f\"{solver:20} {train_acc:<25.4f} {test_acc:<25.4f} {duration:<10.4f}\")\n",
    "\n",
    "# Run models with different solvers\n",
    "solvers = [\"lbfgs\", \"newton-cg\", \"newton-cholesky\", \"sag\", \"saga\"]\n",
    "for solver in solvers:\n",
    "    create_linear_model(solver)\n",
    "\n",
    "# Display the results\n",
    "print_results()\n"
   ]
  },
  {
   "cell_type": "markdown",
   "metadata": {
    "id": "DU3Ov6vSI-P9"
   },
   "source": [
    "3. Compare the results of the models in terms of their accuracy (use this as the performance metric to assess generalizability error on the holdout subset) and the time taken (use appropriate timing function). Summarize your results via a table with the following structure:"
   ]
  },
  {
   "cell_type": "code",
   "execution_count": null,
   "metadata": {
    "colab": {
     "base_uri": "https://localhost:8080/"
    },
    "id": "SCmJn3-WJB0m",
    "outputId": "208e3b21-0ffd-459a-8afe-1d6888aec04b"
   },
   "outputs": [
    {
     "name": "stdout",
     "output_type": "stream",
     "text": [
      "\n",
      "Solver               Training Subset Accuracy  Test Subset Accuracy      Time (s)  \n",
      "------------------------------------------------------------------------------------\n",
      "lbfgs                0.7489                    0.7355                    0.2861    \n",
      "newton-cg            0.7487                    0.7355                    0.0977    \n",
      "newton-cholesky      0.7487                    0.7355                    0.0336    \n",
      "sag                  0.7488                    0.7358                    2.7716    \n",
      "saga                 0.7488                    0.7358                    5.4226    \n"
     ]
    }
   ],
   "source": [
    "print_results()"
   ]
  },
  {
   "cell_type": "markdown",
   "metadata": {
    "id": "rWohEQ9QSZjx"
   },
   "source": [
    "4. Among the solvers tested, newton-cholesky delivered the best overall performance. Although all solvers produced very similar accuracy on both the training and test sets, the variation in execution time was notable. newton-cholesky stood out by offering one of the top test accuracies (0.7355) while also being the fastest, completing the task in only 0.0336 seconds. While sag and saga achieved a slightly higher test accuracy (0.7358), they required significantly more time to execute. The final ranking prioritized both generalization performance and computational efficiency, with greater weight placed on the model's ability to generalize well and run quickly."
   ]
  }
 ],
 "metadata": {
  "colab": {
   "provenance": []
  },
  "kernelspec": {
   "display_name": "Python 3",
   "name": "python3"
  },
  "language_info": {
   "name": "python"
  }
 },
 "nbformat": 4,
 "nbformat_minor": 0
}
